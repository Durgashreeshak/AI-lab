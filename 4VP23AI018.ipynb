{
 "cells": [
  {
   "cell_type": "markdown",
   "id": "7eb6e25b",
   "metadata": {},
   "source": [
    "# Experiment no: 01\n",
    "## Implement and demonstrate depth first search algorithm on water jug problem"
   ]
  },
  {
   "cell_type": "code",
   "execution_count": 11,
   "id": "1790351a",
   "metadata": {},
   "outputs": [
    {
     "name": "stdout",
     "output_type": "stream",
     "text": [
      "Target reached!\n",
      "Operation: (4, 2)\n",
      "Operation: (3, 3)\n",
      "Operation: (3, 0)\n",
      "Operation: (0, 3)\n",
      "Operation: (4, 3)\n",
      "Operation: (4, 0)\n"
     ]
    }
   ],
   "source": [
    "class WaterJugProblem:\n",
    "    def __init__(self,jug1_capacity,jug2_capacity,target):\n",
    "        self.jug1_capacity=jug1_capacity\n",
    "        self.jug2_capacity=jug2_capacity\n",
    "        self.target=target\n",
    "        self.visited=set()\n",
    "    def dfs(self,jug1,jug2):\n",
    "        if (jug1,jug2) in self.visited:\n",
    "            return False\n",
    "        self.visited.add((jug1,jug2))\n",
    "        if jug1==self.target or jug2==self.target:\n",
    "            print(\"Target reached!\")\n",
    "            return True\n",
    "        operations=[\n",
    "            (self.jug1_capacity,jug2),\n",
    "            (jug1,self.jug2_capacity),\n",
    "            (0,jug2),\n",
    "            (jug1,0),\n",
    "            (min(jug1+jug2,self.jug1_capacity),jug2-(min(jug1+jug2,self.jug1_capacity)-jug1)),\n",
    "            (jug1-(min(jug1+jug2,self.jug2_capacity)-jug2),min(jug1+jug2,self.jug2_capacity))\n",
    "        ]\n",
    "        for operation in operations:\n",
    "            if self.dfs(*operation):\n",
    "                print(\"Operation:\",operation)\n",
    "                return True\n",
    "        return False\n",
    "def main():\n",
    "    jug1_capacity=4\n",
    "    jug2_capacity=3\n",
    "    target=2\n",
    "    water_jug_problem=WaterJugProblem(jug1_capacity,jug2_capacity,target)\n",
    "    if not water_jug_problem.dfs(0,0):\n",
    "        print(\"Target cannot be reached!\")\n",
    "if __name__==\"__main__\":\n",
    "    main()"
   ]
  },
  {
   "cell_type": "markdown",
   "id": "297e9fa0",
   "metadata": {},
   "source": [
    "# Experiment no: 05\n",
    "## Solve 8-Queens problem with suitable assumptions"
   ]
  },
  {
   "cell_type": "code",
   "execution_count": 19,
   "id": "958210c8",
   "metadata": {},
   "outputs": [
    {
     "name": "stdout",
     "output_type": "stream",
     "text": [
      "Enter the number of queens\n",
      "8\n",
      "[1, 0, 0, 0, 0, 0, 0, 0]\n",
      "[0, 0, 0, 0, 1, 0, 0, 0]\n",
      "[0, 0, 0, 0, 0, 0, 0, 1]\n",
      "[0, 0, 0, 0, 0, 1, 0, 0]\n",
      "[0, 0, 1, 0, 0, 0, 0, 0]\n",
      "[0, 0, 0, 0, 0, 0, 1, 0]\n",
      "[0, 1, 0, 0, 0, 0, 0, 0]\n",
      "[0, 0, 0, 1, 0, 0, 0, 0]\n"
     ]
    }
   ],
   "source": [
    "print(\"Enter the number of queens\")\n",
    "N=int(input())\n",
    "board=[[0]*N for _ in range(N)]\n",
    "def is_safe(row,col):\n",
    "    for i in range(row):\n",
    "        if board[i][col]==1:\n",
    "            return False\n",
    "    for i,j in zip(range(row,-1,-1),range(col,-1,-1)):\n",
    "        if board[i][j]==1:\n",
    "            return False\n",
    "    for i,j in zip(range(row,-1,-1),range(col,N)):\n",
    "        if board[i][j]==1:\n",
    "            return False\n",
    "    return True\n",
    "def solve(row):\n",
    "    if row>=N:\n",
    "        return True\n",
    "    for col in range(N):\n",
    "        if is_safe(row,col):\n",
    "            board[row][col]=1\n",
    "            if solve(row+1):\n",
    "                return True\n",
    "            board[row][col]=0\n",
    "    return False\n",
    "solve(0)\n",
    "for row in board:\n",
    "    print(row)"
   ]
  },
  {
   "cell_type": "markdown",
   "id": "8a9880cc",
   "metadata": {},
   "source": [
    "# Experiment no: 06\n",
    "## Implementation of TSP using heuristic approach"
   ]
  },
  {
   "cell_type": "code",
   "execution_count": 5,
   "id": "aea0efb1",
   "metadata": {},
   "outputs": [
    {
     "name": "stdout",
     "output_type": "stream",
     "text": [
      "80\n"
     ]
    }
   ],
   "source": [
    "from sys import maxsize\n",
    "from itertools import permutations\n",
    "V=4\n",
    "def travellingSalesmanProblem(graph,s):\n",
    "    vertex=[]\n",
    "    for i in range(V):\n",
    "        if i !=s:\n",
    "            vertex.append(i)\n",
    "    min_path=maxsize\n",
    "    next_permutation=permutations(vertex)\n",
    "    for i in next_permutation:\n",
    "        current_pathweight=0\n",
    "        k=s\n",
    "        for j in i:\n",
    "            current_pathweight+=graph[k][j]\n",
    "            k=j\n",
    "        current_pathweight+=graph[k][s]\n",
    "        min_path=min(min_path,current_pathweight)\n",
    "    return min_path\n",
    "if __name__==\"__main__\":\n",
    "    graph=[[0,10,15,20],[10,0,35,25],\n",
    "           [15,35,0,30],[20,25,30,0]]\n",
    "    s=0\n",
    "    print(travellingSalesmanProblem(graph,s))"
   ]
  },
  {
   "cell_type": "markdown",
   "id": "58a994d3",
   "metadata": {},
   "source": [
    "# Experiment no: 07\n",
    "## Backward chaining"
   ]
  },
  {
   "cell_type": "code",
   "execution_count": 2,
   "id": "82ed3143",
   "metadata": {},
   "outputs": [
    {
     "name": "stdout",
     "output_type": "stream",
     "text": [
      "The final state is: ['fresh', 'clean', 'smelly', 'dirty', 'clean', 'smelly']\n"
     ]
    }
   ],
   "source": [
    "initial_state=[\"fresh\"]\n",
    "rules=[\n",
    "    {\"if\":[\"clean\",\"smelly\"],\"then\":[\"fresh\"]},\n",
    "    {\"if\":[\"dirty\"],\"then\":[\"clean\"]},\n",
    "]\n",
    "goal=[\"dirty\",\"smelly\"]\n",
    "current_state=initial_state\n",
    "while not all(x in current_state for x in goal):\n",
    "    if all(x in current_state for x in goal):\n",
    "        break\n",
    "    for rule in reversed(rules):\n",
    "        if all(x in current_state for x in rule[\"then\"]):\n",
    "            current_state+=rule[\"if\"]\n",
    "print(\"The final state is:\",current_state)"
   ]
  },
  {
   "cell_type": "markdown",
   "id": "9c39c570",
   "metadata": {},
   "source": [
    "## Forward chaining"
   ]
  },
  {
   "cell_type": "code",
   "execution_count": 4,
   "id": "b7e90fe7",
   "metadata": {},
   "outputs": [
    {
     "name": "stdout",
     "output_type": "stream",
     "text": [
      "The final state is: ['dirty', 'smelly', 'clean', 'fresh']\n"
     ]
    }
   ],
   "source": [
    "initial_state=[\"dirty\",\"smelly\"]\n",
    "rules=[\n",
    "    {\"if\":[\"dirty\"],\"then\":[\"clean\"]},\n",
    "    {\"if\":[\"clean\",\"smelly\"],\"then\":[\"fresh\"]},\n",
    "]\n",
    "goal=[\"fresh\"]\n",
    "current_state=initial_state\n",
    "while not all(x in current_state for x in goal):\n",
    "    for rule in rules:\n",
    "        if all(x in current_state for x in rule[\"if\"]):\n",
    "            current_state+=rule[\"then\"]\n",
    "print(\"The final state is:\",current_state)"
   ]
  },
  {
   "cell_type": "markdown",
   "id": "17483d59",
   "metadata": {},
   "source": [
    "# Experiment no: 03\n",
    "## Implement A* Search Algorithm\n"
   ]
  },
  {
   "cell_type": "code",
   "execution_count": 12,
   "id": "fec3f4e7",
   "metadata": {},
   "outputs": [
    {
     "name": "stdout",
     "output_type": "stream",
     "text": [
      "Path found:['A', 'C', 'D', 'E', 'Z']\n"
     ]
    },
    {
     "data": {
      "text/plain": [
       "['A', 'C', 'D', 'E', 'Z']"
      ]
     },
     "execution_count": 12,
     "metadata": {},
     "output_type": "execute_result"
    }
   ],
   "source": [
    "def aStarAlgo(start_node,stop_node):\n",
    "    open_set=set([start_node])\n",
    "    closed_set=set()\n",
    "    g={start_node:0}\n",
    "    parents={start_node:start_node}\n",
    "    \n",
    "    while open_set:\n",
    "        n=None\n",
    "        \n",
    "        for v in open_set:\n",
    "            if n is None or g[v]+heuristic(v)<g[n]+heuristic(n):\n",
    "                n=v\n",
    "        if n is None:\n",
    "            print(\"Path does not exist!\")\n",
    "            return None\n",
    "        if n==stop_node:\n",
    "            path=[]\n",
    "            while parents[n]!=n:\n",
    "                path.append(n)\n",
    "                n=parents[n]\n",
    "            path.append(start_node)\n",
    "            path.reverse()\n",
    "            print(f\"Path found:{path}\")\n",
    "            return path\n",
    "        open_set.remove(n)\n",
    "        closed_set.add(n)\n",
    "        \n",
    "        for(m,weight)in get_neighbors(n):\n",
    "            if m in closed_set:\n",
    "                continue\n",
    "            tentative_g=g[n]+weight\n",
    "            if m not in open_set or tentative_g<g[m]:\n",
    "                g[m]=tentative_g\n",
    "                parents[m]=n\n",
    "                open_set.add(m)\n",
    "    print(\"Path does not exist!\")\n",
    "    return None\n",
    "def get_neighbors(v):\n",
    "    return Graph_nodes.get(v,[])\n",
    "def heuristic(n):\n",
    "    H_dist={\n",
    "        'A':14,'B':12,'C':11,'D':6,'E':4,'F':1,'Z':0,\n",
    "    }\n",
    "    return H_dist[n]\n",
    "Graph_nodes={\n",
    "    'A':[('B',4),('C',3)],\n",
    "    'B':[('F',5),('E',12)],\n",
    "    'C':[('E',10),('D',7)],\n",
    "    'D':[('C',7),('E',2)],\n",
    "    'E':[('B',12),('Z',5)],\n",
    "    'F':[('B',5),('Z',16)],\n",
    "}\n",
    "aStarAlgo('A','Z')"
   ]
  },
  {
   "cell_type": "markdown",
   "id": "090c5906",
   "metadata": {},
   "source": [
    "# Experiment no: 09\n",
    "## Implement Tic-Tac-Toe game using Python\n"
   ]
  },
  {
   "cell_type": "code",
   "execution_count": 4,
   "id": "fbab1ad2",
   "metadata": {},
   "outputs": [
    {
     "name": "stdout",
     "output_type": "stream",
     "text": [
      "Player 1 [X]--- Player 2 [0]\n",
      "\n",
      "\n",
      "\n",
      "Please wait...\n",
      "\u001b[H\u001b[2J   |   |   \n",
      "---|---|---\n",
      "   |   |   \n",
      "---|---|---\n",
      "   |   |   \n",
      "\n",
      "player 1's chance\n",
      "Enter the positions between [1-9] where you want to mark :1\n",
      "\u001b[H\u001b[2J X |   |   \n",
      "---|---|---\n",
      "   |   |   \n",
      "---|---|---\n",
      "   |   |   \n",
      "\n",
      "player 2's chance\n",
      "Enter the positions between [1-9] where you want to mark :2\n",
      "\u001b[H\u001b[2J X | 0 |   \n",
      "---|---|---\n",
      "   |   |   \n",
      "---|---|---\n",
      "   |   |   \n",
      "\n",
      "player 1's chance\n",
      "Enter the positions between [1-9] where you want to mark :4\n",
      "\u001b[H\u001b[2J X | 0 |   \n",
      "---|---|---\n",
      " X |   |   \n",
      "---|---|---\n",
      "   |   |   \n",
      "\n",
      "player 2's chance\n",
      "Enter the positions between [1-9] where you want to mark :3\n",
      "\u001b[H\u001b[2J X | 0 | 0 \n",
      "---|---|---\n",
      " X |   |   \n",
      "---|---|---\n",
      "   |   |   \n",
      "\n",
      "player 1's chance\n",
      "Enter the positions between [1-9] where you want to mark :7\n",
      "\u001b[H\u001b[2J X | 0 | 0 \n",
      "---|---|---\n",
      " X |   |   \n",
      "---|---|---\n",
      " X |   |   \n",
      "\n",
      "player 1 Won\n"
     ]
    }
   ],
   "source": [
    "import os\n",
    "import time\n",
    "\n",
    "board=[' ',' ',' ',' ',' ',' ',' ',' ',' ',' ']\n",
    "player=1\n",
    "\n",
    "Win=1\n",
    "Draw=-1\n",
    "Running=0\n",
    "Stop=1\n",
    "\n",
    "Game=Running\n",
    "Mark='X' \n",
    "def DrawBoard():\n",
    "    print(\" %c | %c | %c \" % (board[1], board[2], board[3]))\n",
    "    print(\"---|---|---\")\n",
    "    print(\" %c | %c | %c \" % (board[4], board[5], board[6]))\n",
    "    print(\"---|---|---\")\n",
    "    print(\" %c | %c | %c \" % (board[7], board[8], board[9]))\n",
    "    print()\n",
    "    \n",
    "def CheckPosition(x):\n",
    "    if(board[x]==' '):\n",
    "        return True\n",
    "    else:\n",
    "        return False\n",
    "def CheckWin():\n",
    "    global Game\n",
    "    if(board[1] == board[2] and board[2] == board[3] and board[1] !=' '):\n",
    "        Game=Win\n",
    "    elif(board[4] == board[5] and board[5] == board[6] and board[4] !=' '):\n",
    "        Game=Win\n",
    "    elif(board[7] == board[8] and board[8] == board[9] and board[7] !=' '):\n",
    "        Game=Win\n",
    "        \n",
    "        \n",
    "    elif(board[1] == board[4] and board[4] == board[7] and board[1] !=' '):\n",
    "        Game=Win\n",
    "    elif(board[2] == board[5] and board[5] == board[8] and board[2] !=' '):\n",
    "        Game=Win\n",
    "    elif(board[3] == board[6] and board[6] == board[9] and board[3] !=' '):\n",
    "        Game=Win\n",
    "        \n",
    "        \n",
    "    elif(board[1] == board[5] and board[5] == board[9] and board[5] !=' '):\n",
    "        Game=Win\n",
    "    elif(board[3] == board[5] and board[5] == board[7] and board[5] !=' '):\n",
    "        Game=Win\n",
    "        \n",
    "    elif(board[1]!=' ' and board[2]!=' ' and board[3]!=' ' and board[4]!=' ' and board[5]!=' '  and board[6]!=' '  and board[7]!=' ' and board[8]!=' '  and board[9]!=' '): \n",
    "        Game=Draw\n",
    "    else:\n",
    "        Game=Running\n",
    "        \n",
    "\n",
    "        \n",
    "print(\"Player 1 [X]--- Player 2 [0]\\n\")\n",
    "print()\n",
    "print()\n",
    "print(\"Please wait...\")\n",
    "time.sleep(3)\n",
    "while(Game == Running):\n",
    "    os.system('clear')\n",
    "    DrawBoard()\n",
    "    if(player % 2 !=0):\n",
    "        print(\"player 1's chance\")\n",
    "        Mark = 'X'\n",
    "    else:\n",
    "        print(\"player 2's chance\")\n",
    "        Mark='0'\n",
    "    choice=int(input(\"Enter the positions between [1-9] where you want to mark :\"))\n",
    "    if(CheckPosition(choice)):\n",
    "        board[choice] =  Mark\n",
    "        player+=1\n",
    "        CheckWin()\n",
    "os.system('clear')        \n",
    "DrawBoard()\n",
    "if(Game==Draw):\n",
    "    print(\"Game Draw\")\n",
    "elif(Game==Win):\n",
    "    player-=1\n",
    "    if(player%2!=0):\n",
    "        print(\"player 1 Won\")\n",
    "    else:\n",
    "        print(\"player 2 Won\")"
   ]
  },
  {
   "cell_type": "code",
   "execution_count": 3,
   "id": "d2f19812",
   "metadata": {},
   "outputs": [
    {
     "name": "stdout",
     "output_type": "stream",
     "text": [
      "Simple Question and Answering Program\n",
      "=====================================\n",
      "You may ask any one of these questions\n",
      "Hi\n",
      "How are you?\n",
      "Are you studying?\n",
      "What is your name?\n",
      "What did you do yesterday\n",
      "Quit\n"
     ]
    },
    {
     "ename": "KeyboardInterrupt",
     "evalue": "Interrupted by user",
     "output_type": "error",
     "traceback": [
      "\u001b[0;31m---------------------------------------------------------------------------\u001b[0m",
      "\u001b[0;31mKeyboardInterrupt\u001b[0m                         Traceback (most recent call last)",
      "Cell \u001b[0;32mIn[3], line 11\u001b[0m\n\u001b[1;32m      9\u001b[0m \u001b[38;5;28mprint\u001b[39m(\u001b[38;5;124m\"\u001b[39m\u001b[38;5;124mQuit\u001b[39m\u001b[38;5;124m\"\u001b[39m)\n\u001b[1;32m     10\u001b[0m \u001b[38;5;28;01mwhile\u001b[39;00m \u001b[38;5;28;01mTrue\u001b[39;00m:\n\u001b[0;32m---> 11\u001b[0m     question\u001b[38;5;241m=\u001b[39m\u001b[38;5;28;43minput\u001b[39;49m\u001b[43m(\u001b[49m\u001b[38;5;124;43m\"\u001b[39;49m\u001b[38;5;124;43mEnter one question from above list:\u001b[39;49m\u001b[38;5;124;43m\"\u001b[39;49m\u001b[43m)\u001b[49m\n\u001b[1;32m     12\u001b[0m     question\u001b[38;5;241m=\u001b[39mquestion\u001b[38;5;241m.\u001b[39mlower()\n\u001b[1;32m     13\u001b[0m     \u001b[38;5;28;01mif\u001b[39;00m question \u001b[38;5;129;01min\u001b[39;00m[\u001b[38;5;124m'\u001b[39m\u001b[38;5;124mhi\u001b[39m\u001b[38;5;124m'\u001b[39m]:\n",
      "File \u001b[0;32m~/anaconda3/lib/python3.10/site-packages/ipykernel/kernelbase.py:1175\u001b[0m, in \u001b[0;36mKernel.raw_input\u001b[0;34m(self, prompt)\u001b[0m\n\u001b[1;32m   1171\u001b[0m \u001b[38;5;28;01mif\u001b[39;00m \u001b[38;5;129;01mnot\u001b[39;00m \u001b[38;5;28mself\u001b[39m\u001b[38;5;241m.\u001b[39m_allow_stdin:\n\u001b[1;32m   1172\u001b[0m     \u001b[38;5;28;01mraise\u001b[39;00m StdinNotImplementedError(\n\u001b[1;32m   1173\u001b[0m         \u001b[38;5;124m\"\u001b[39m\u001b[38;5;124mraw_input was called, but this frontend does not support input requests.\u001b[39m\u001b[38;5;124m\"\u001b[39m\n\u001b[1;32m   1174\u001b[0m     )\n\u001b[0;32m-> 1175\u001b[0m \u001b[38;5;28;01mreturn\u001b[39;00m \u001b[38;5;28;43mself\u001b[39;49m\u001b[38;5;241;43m.\u001b[39;49m\u001b[43m_input_request\u001b[49m\u001b[43m(\u001b[49m\n\u001b[1;32m   1176\u001b[0m \u001b[43m    \u001b[49m\u001b[38;5;28;43mstr\u001b[39;49m\u001b[43m(\u001b[49m\u001b[43mprompt\u001b[49m\u001b[43m)\u001b[49m\u001b[43m,\u001b[49m\n\u001b[1;32m   1177\u001b[0m \u001b[43m    \u001b[49m\u001b[38;5;28;43mself\u001b[39;49m\u001b[38;5;241;43m.\u001b[39;49m\u001b[43m_parent_ident\u001b[49m\u001b[43m[\u001b[49m\u001b[38;5;124;43m\"\u001b[39;49m\u001b[38;5;124;43mshell\u001b[39;49m\u001b[38;5;124;43m\"\u001b[39;49m\u001b[43m]\u001b[49m\u001b[43m,\u001b[49m\n\u001b[1;32m   1178\u001b[0m \u001b[43m    \u001b[49m\u001b[38;5;28;43mself\u001b[39;49m\u001b[38;5;241;43m.\u001b[39;49m\u001b[43mget_parent\u001b[49m\u001b[43m(\u001b[49m\u001b[38;5;124;43m\"\u001b[39;49m\u001b[38;5;124;43mshell\u001b[39;49m\u001b[38;5;124;43m\"\u001b[39;49m\u001b[43m)\u001b[49m\u001b[43m,\u001b[49m\n\u001b[1;32m   1179\u001b[0m \u001b[43m    \u001b[49m\u001b[43mpassword\u001b[49m\u001b[38;5;241;43m=\u001b[39;49m\u001b[38;5;28;43;01mFalse\u001b[39;49;00m\u001b[43m,\u001b[49m\n\u001b[1;32m   1180\u001b[0m \u001b[43m\u001b[49m\u001b[43m)\u001b[49m\n",
      "File \u001b[0;32m~/anaconda3/lib/python3.10/site-packages/ipykernel/kernelbase.py:1217\u001b[0m, in \u001b[0;36mKernel._input_request\u001b[0;34m(self, prompt, ident, parent, password)\u001b[0m\n\u001b[1;32m   1214\u001b[0m             \u001b[38;5;28;01mbreak\u001b[39;00m\n\u001b[1;32m   1215\u001b[0m \u001b[38;5;28;01mexcept\u001b[39;00m \u001b[38;5;167;01mKeyboardInterrupt\u001b[39;00m:\n\u001b[1;32m   1216\u001b[0m     \u001b[38;5;66;03m# re-raise KeyboardInterrupt, to truncate traceback\u001b[39;00m\n\u001b[0;32m-> 1217\u001b[0m     \u001b[38;5;28;01mraise\u001b[39;00m \u001b[38;5;167;01mKeyboardInterrupt\u001b[39;00m(\u001b[38;5;124m\"\u001b[39m\u001b[38;5;124mInterrupted by user\u001b[39m\u001b[38;5;124m\"\u001b[39m) \u001b[38;5;28;01mfrom\u001b[39;00m \u001b[38;5;28;01mNone\u001b[39;00m\n\u001b[1;32m   1218\u001b[0m \u001b[38;5;28;01mexcept\u001b[39;00m \u001b[38;5;167;01mException\u001b[39;00m:\n\u001b[1;32m   1219\u001b[0m     \u001b[38;5;28mself\u001b[39m\u001b[38;5;241m.\u001b[39mlog\u001b[38;5;241m.\u001b[39mwarning(\u001b[38;5;124m\"\u001b[39m\u001b[38;5;124mInvalid Message:\u001b[39m\u001b[38;5;124m\"\u001b[39m, exc_info\u001b[38;5;241m=\u001b[39m\u001b[38;5;28;01mTrue\u001b[39;00m)\n",
      "\u001b[0;31mKeyboardInterrupt\u001b[0m: Interrupted by user"
     ]
    }
   ],
   "source": [
    "print(\"Simple Question and Answering Program\")\n",
    "print(\"=====================================\")\n",
    "print(\"You may ask any one of these questions\")\n",
    "print(\"Hi\")\n",
    "print(\"How are you?\")\n",
    "print(\"Are you studying?\")\n",
    "print(\"What is your name?\")\n",
    "print(\"What did you do yesterday\")\n",
    "print(\"Quit\")\n",
    "while True:\n",
    "    question=input(\"Enter one question from above list:\")\n",
    "    question=question.lower()\n",
    "    if question in['hi']:\n",
    "        print(\"hello\")\n",
    "    elif question in['how are you?','how do you do?']:\n",
    "        print(\"I am fine\")\n",
    "    elif question in['are you studying?','are you doing any job?']:\n",
    "        print(\"yes,I'am studying in VCET Puttur\")\n",
    "    elif question in['what is your name?']:\n",
    "        print(\"My name is Joseph\")\n",
    "        name=input(\"Enter your name?\")\n",
    "        print(\"nice name and Nice meeting you\",name)\n",
    "    elif question in['what did you do yesterday?']:\n",
    "        print(\"I saw Bahubali 5 times\")\n",
    "    elif question in ['quit']:\n",
    "        break\n",
    "    else:\n",
    "        print(\"I dont understand what you said\")"
   ]
  },
  {
   "cell_type": "markdown",
   "id": "d113a8cd",
   "metadata": {},
   "source": [
    "## Exp 8\n"
   ]
  },
  {
   "cell_type": "code",
   "execution_count": 5,
   "id": "83082e2b",
   "metadata": {},
   "outputs": [
    {
     "name": "stdout",
     "output_type": "stream",
     "text": [
      "The query '~P12' is proved.\n"
     ]
    }
   ],
   "source": [
    "def negate_literal(literal):\n",
    "    if literal.startswith('~'):\n",
    "        return literal[1:]  \n",
    "    else:\n",
    "        return '~' + literal \n",
    "def resolve(clause1, clause2):\n",
    "    new_clause = []\n",
    "    resolved = False\n",
    "    for literal in clause1:\n",
    "        if negate_literal(literal) in clause2:\n",
    "            resolved = True\n",
    "        else:\n",
    "            new_clause.append(literal)\n",
    "    for literal in clause2:\n",
    "        if negate_literal(literal) not in clause1:\n",
    "            new_clause.append(literal)\n",
    "    if resolved:\n",
    "        return new_clause\n",
    "    else:\n",
    "        return None\n",
    "def resolution(propositional_kb, query):\n",
    "    kb = propositional_kb[:]\n",
    "    kb.append([negate_literal(query)])\n",
    "    while True:\n",
    "        new_clauses = []\n",
    "        n = len(kb)\n",
    "        resolved_pairs = set()\n",
    "        for i in range(n):\n",
    "            for j in range(i + 1, n):\n",
    "                clause1 = kb[i]\n",
    "                clause2 = kb[j]\n",
    "                pair = (tuple(clause1), tuple(clause2))\n",
    "                if pair not in resolved_pairs:\n",
    "                    resolved_pairs.add(pair)\n",
    "                    resolvent = resolve(clause1, clause2)\n",
    "                    if resolvent is None:\n",
    "                        continue\n",
    "                    if len(resolvent) == 0:\n",
    "                        return True\n",
    "                    if tuple(resolvent) not in [tuple(c) for c in kb + new_clauses]:\n",
    "                        new_clauses.append(resolvent)\n",
    "        if not new_clauses:\n",
    "            return False\n",
    "        kb.extend(new_clauses)\n",
    "        \n",
    "if __name__ == \"__main__\":\n",
    "    propositional_kb = [\n",
    "        ['B11', '~P12'],\n",
    "        ['B11', '~P21'],\n",
    "        ['~B11']\n",
    "    ]\n",
    "    query = '~P12'\n",
    "    result = resolution(propositional_kb, query)\n",
    "    if result:\n",
    "        print(f\"The query '{query}' is proved.\")\n",
    "    else:\n",
    "        print(f\"The query '{query}' is disproved.\")"
   ]
  },
  {
   "cell_type": "code",
   "execution_count": 6,
   "id": "d23bebe5",
   "metadata": {},
   "outputs": [
    {
     "name": "stdout",
     "output_type": "stream",
     "text": [
      "The query '~P12' is proved.\n"
     ]
    }
   ],
   "source": [
    "def negate(lit): return lit[1:] if lit.startswith('~') else '~' + lit\n",
    "def resolve(c1, c2):\n",
    "    for lit in c1:\n",
    "        if negate(lit) in c2:\n",
    "            return list(set(c1 + c2) - {lit, negate(lit)})\n",
    "    return None\n",
    "def resolution(kb, query):\n",
    "    kb = kb + [[negate(query)]]\n",
    "    new = []\n",
    "    while True:\n",
    "        pairs = [(kb[i], kb[j]) for i in range(len(kb)) for j in range(i+1, len(kb))]\n",
    "        for (c1, c2) in pairs:\n",
    "            res = resolve(c1, c2)\n",
    "            if res is not None:\n",
    "                if res == []: return True\n",
    "                if res not in kb and res not in new:\n",
    "                    new.append(res)\n",
    "        if not new: return False\n",
    "        kb += new\n",
    "if __name__ == \"__main__\":\n",
    "    kb = [['B11', '~P12'], ['B11', '~P21'], ['~B11']]\n",
    "    query = '~P12'\n",
    "    print(f\"The query '{query}' is {'proved' if resolution(kb, query) else 'disproved'}.\")"
   ]
  },
  {
   "cell_type": "code",
   "execution_count": null,
   "id": "909d82f3",
   "metadata": {},
   "outputs": [],
   "source": []
  }
 ],
 "metadata": {
  "kernelspec": {
   "display_name": "Python 3 (ipykernel)",
   "language": "python",
   "name": "python3"
  },
  "language_info": {
   "codemirror_mode": {
    "name": "ipython",
    "version": 3
   },
   "file_extension": ".py",
   "mimetype": "text/x-python",
   "name": "python",
   "nbconvert_exporter": "python",
   "pygments_lexer": "ipython3",
   "version": "3.10.9"
  }
 },
 "nbformat": 4,
 "nbformat_minor": 5
}
